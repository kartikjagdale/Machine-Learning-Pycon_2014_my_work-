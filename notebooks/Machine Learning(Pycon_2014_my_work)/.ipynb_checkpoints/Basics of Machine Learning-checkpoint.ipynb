{
 "metadata": {
  "name": "",
  "signature": "sha256:43ff2e11bd5dad9d170a97bf1000fe7e64dfc0b096277121e122d5340268a6fb"
 },
 "nbformat": 3,
 "nbformat_minor": 0,
 "worksheets": [
  {
   "cells": [
    {
     "cell_type": "code",
     "collapsed": false,
     "input": [
      "#Machine Learning\n",
      "%matplotlib inline"
     ],
     "language": "python",
     "metadata": {},
     "outputs": [],
     "prompt_number": 1
    },
    {
     "cell_type": "code",
     "collapsed": false,
     "input": [
      "from fig_code import plot_sgd_separator\n",
      "plot_sgd_separator()"
     ],
     "language": "python",
     "metadata": {},
     "outputs": [
      {
       "metadata": {},
       "output_type": "display_data",
       "png": "[encoded data removed]",
       "text": [
        "<matplotlib.figure.Figure at 0x2b51110>"
       ]
      }
     ],
     "prompt_number": 2
    },
    {
     "cell_type": "code",
     "collapsed": false,
     "input": [
      "%load fig_code/sgd_separator.py"
     ],
     "language": "python",
     "metadata": {},
     "outputs": [],
     "prompt_number": 4
    },
    {
     "cell_type": "code",
     "collapsed": false,
     "input": [
      "import numpy as np\n",
      "import matplotlib.pyplot as plt\n",
      "from sklearn.linear_model import SGDClassifier\n",
      "from sklearn.datasets.samples_generator import make_blobs\n",
      "\n",
      "def plot_sgd_separator():\n",
      "    # we create 50 separable points\n",
      "    X, Y = make_blobs(n_samples=50, centers=2,\n",
      "                      random_state=0, cluster_std=0.60)\n",
      "\n",
      "    # fit the model\n",
      "    clf = SGDClassifier(loss=\"hinge\", alpha=0.01,\n",
      "                        n_iter=200, fit_intercept=True)\n",
      "    clf.fit(X, Y)\n",
      "\n",
      "    # plot the line, the points, and the nearest vectors to the plane\n",
      "    xx = np.linspace(-1, 5, 10)\n",
      "    yy = np.linspace(-1, 5, 10)\n",
      "\n",
      "    X1, X2 = np.meshgrid(xx, yy)\n",
      "    Z = np.empty(X1.shape)\n",
      "    for (i, j), val in np.ndenumerate(X1):\n",
      "        x1 = val\n",
      "        x2 = X2[i, j]\n",
      "        p = clf.decision_function([x1, x2])\n",
      "        Z[i, j] = p[0]\n",
      "    levels = [-1.0, 0.0, 1.0]\n",
      "    linestyles = ['dashed', 'solid', 'dashed']\n",
      "    colors = 'k'\n",
      "\n",
      "    ax = plt.axes()\n",
      "    ax.contour(X1, X2, Z, levels, colors=colors, linestyles=linestyles)\n",
      "    ax.scatter(X[:, 0], X[:, 1], c=Y, cmap=plt.cm.Paired)\n",
      "\n",
      "    ax.axis('tight')\n",
      "\n",
      "\n",
      "if __name__ == '__main__':\n",
      "    plot_sgd_separator()\n",
      "    plt.show()\n"
     ],
     "language": "python",
     "metadata": {},
     "outputs": []
    },
    {
     "cell_type": "code",
     "collapsed": false,
     "input": [
      "from fig_code import plot_linear_regression\n",
      "plot_linear_regression()"
     ],
     "language": "python",
     "metadata": {},
     "outputs": [
      {
       "metadata": {},
       "output_type": "display_data",
       "png": "[encoded data removed]",
       "text": [
        "<matplotlib.figure.Figure at 0x45a1230>"
       ]
      }
     ],
     "prompt_number": 5
    },
    {
     "cell_type": "code",
     "collapsed": false,
     "input": [
      "import numpy as np\n",
      "#generate random numbers\n",
      "k = np.random.random((2,5)) #as a 5X5 array\n",
      "print k"
     ],
     "language": "python",
     "metadata": {},
     "outputs": [
      {
       "output_type": "stream",
       "stream": "stdout",
       "text": [
        "[[ 0.18718221  0.64628296  0.41883626  0.28436495  0.38656491]\n",
        " [ 0.30169045  0.3555377   0.49694954  0.06977678  0.53382688]]\n"
       ]
      }
     ],
     "prompt_number": 11
    },
    {
     "cell_type": "code",
     "collapsed": false,
     "input": [
      "#print k[0,0]\n",
      "#print k[1]\n",
      "#print k[:,1]\n",
      "print k[0:, 1]"
     ],
     "language": "python",
     "metadata": {},
     "outputs": [
      {
       "output_type": "stream",
       "stream": "stdout",
       "text": [
        "[ 0.64628296  0.3555377 ]\n"
       ]
      }
     ],
     "prompt_number": 32
    },
    {
     "cell_type": "code",
     "collapsed": false,
     "input": [
      "print k.T"
     ],
     "language": "python",
     "metadata": {},
     "outputs": [
      {
       "output_type": "stream",
       "stream": "stdout",
       "text": [
        "[[ 0.18718221  0.30169045]\n",
        " [ 0.64628296  0.3555377 ]\n",
        " [ 0.41883626  0.49694954]\n",
        " [ 0.28436495  0.06977678]\n",
        " [ 0.38656491  0.53382688]]\n"
       ]
      }
     ],
     "prompt_number": 33
    },
    {
     "cell_type": "code",
     "collapsed": false,
     "input": [
      "j = np.linspace(0, 12, 5)\n",
      "print j\n",
      "print \"\\n\"\n",
      "print j[:, np.newaxis]\n"
     ],
     "language": "python",
     "metadata": {},
     "outputs": [
      {
       "output_type": "stream",
       "stream": "stdout",
       "text": [
        "[  0.   3.   6.   9.  12.]\n",
        "\n",
        "\n",
        "[  0.   3.   6.   9.  12.]\n",
        "[[  0.]\n",
        " [  3.]\n",
        " [  6.]\n",
        " [  9.]\n",
        " [ 12.]]\n"
       ]
      }
     ],
     "prompt_number": 46
    },
    {
     "cell_type": "code",
     "collapsed": false,
     "input": [
      "X = np.random.random((10, 5))\n",
      "print X\n"
     ],
     "language": "python",
     "metadata": {},
     "outputs": [
      {
       "output_type": "stream",
       "stream": "stdout",
       "text": [
        "[[ 0.70702963  0.19420305  0.46899838  0.91296656  0.60993552]\n",
        " [ 0.8580577   0.3248939   0.73750848  0.21175087  0.8820274 ]\n",
        " [ 0.66104166  0.02926593  0.11310169  0.64962862  0.16214943]\n",
        " [ 0.20595741  0.67295075  0.07168204  0.49911242  0.07412977]\n",
        " [ 0.75414272  0.46563791  0.87758775  0.67167546  0.822406  ]\n",
        " [ 0.73710906  0.7957026   0.6810903   0.84702513  0.49092234]\n",
        " [ 0.04002169  0.681837    0.53424114  0.74387295  0.00462571]\n",
        " [ 0.57896722  0.33799611  0.37682002  0.59077818  0.72139156]\n",
        " [ 0.37277961  0.816713    0.69598592  0.70326243  0.75104477]\n",
        " [ 0.65857227  0.43170172  0.79045167  0.77883946  0.6051943 ]]\n"
       ]
      }
     ],
     "prompt_number": 47
    },
    {
     "cell_type": "code",
     "collapsed": false,
     "input": [
      "X[X<0.7]=0\n",
      "print X"
     ],
     "language": "python",
     "metadata": {},
     "outputs": [
      {
       "output_type": "stream",
       "stream": "stdout",
       "text": [
        "[[ 0.70702963  0.          0.          0.91296656  0.        ]\n",
        " [ 0.8580577   0.          0.73750848  0.          0.8820274 ]\n",
        " [ 0.          0.          0.          0.          0.        ]\n",
        " [ 0.          0.          0.          0.          0.        ]\n",
        " [ 0.75414272  0.          0.87758775  0.          0.822406  ]\n",
        " [ 0.73710906  0.7957026   0.          0.84702513  0.        ]\n",
        " [ 0.          0.          0.          0.74387295  0.        ]\n",
        " [ 0.          0.          0.          0.          0.72139156]\n",
        " [ 0.          0.816713    0.          0.70326243  0.75104477]\n",
        " [ 0.          0.          0.79045167  0.77883946  0.        ]]\n"
       ]
      }
     ],
     "prompt_number": 48
    },
    {
     "cell_type": "code",
     "collapsed": false,
     "input": [
      "from scipy import sparse\n",
      "#turn X into CSR(compressed-sparse-row) matrix\n",
      "X_csr = sparse.csr_matrix(X)\n",
      "print X_csr"
     ],
     "language": "python",
     "metadata": {},
     "outputs": [
      {
       "output_type": "stream",
       "stream": "stdout",
       "text": [
        "  (0, 0)\t0.707029632566\n",
        "  (0, 3)\t0.912966558685\n",
        "  (1, 0)\t0.858057702959\n",
        "  (1, 2)\t0.737508476699\n",
        "  (1, 4)\t0.88202740364\n",
        "  (4, 0)\t0.75414271948\n",
        "  (4, 2)\t0.877587752211\n",
        "  (4, 4)\t0.822405998012\n",
        "  (5, 0)\t0.737109064737\n",
        "  (5, 1)\t0.795702598697\n",
        "  (5, 3)\t0.847025132159\n",
        "  (6, 3)\t0.743872947816\n",
        "  (7, 4)\t0.721391561141\n",
        "  (8, 1)\t0.816712995162\n",
        "  (8, 3)\t0.703262429421\n",
        "  (8, 4)\t0.751044769912\n",
        "  (9, 2)\t0.790451666623\n",
        "  (9, 3)\t0.778839461332\n"
       ]
      }
     ],
     "prompt_number": 54
    },
    {
     "cell_type": "code",
     "collapsed": false,
     "input": [
      "print X_csr.toarray()"
     ],
     "language": "python",
     "metadata": {},
     "outputs": [
      {
       "output_type": "stream",
       "stream": "stdout",
       "text": [
        "[[ 0.70702963  0.          0.          0.91296656  0.        ]\n",
        " [ 0.8580577   0.          0.73750848  0.          0.8820274 ]\n",
        " [ 0.          0.          0.          0.          0.        ]\n",
        " [ 0.          0.          0.          0.          0.        ]\n",
        " [ 0.75414272  0.          0.87758775  0.          0.822406  ]\n",
        " [ 0.73710906  0.7957026   0.          0.84702513  0.        ]\n",
        " [ 0.          0.          0.          0.74387295  0.        ]\n",
        " [ 0.          0.          0.          0.          0.72139156]\n",
        " [ 0.          0.816713    0.          0.70326243  0.75104477]\n",
        " [ 0.          0.          0.79045167  0.77883946  0.        ]]\n"
       ]
      }
     ],
     "prompt_number": 55
    },
    {
     "cell_type": "code",
     "collapsed": false,
     "input": [
      "y = np.random.random(X_csr.shape[1])\n",
      "print y,\"\\n\"\n",
      "z1 = X_csr.dot(y)\n",
      "print z1,\"\\n\"\n",
      "\n",
      "z2 = X.dot(y)\n",
      "print z2\n",
      "np.allclose(z1, z2)"
     ],
     "language": "python",
     "metadata": {},
     "outputs": [
      {
       "output_type": "stream",
       "stream": "stdout",
       "text": [
        "[ 0.57717227  0.27774586  0.5147663   0.36163092  0.77894608] \n",
        "\n",
        "[ 0.73823483  1.56194341  0.          0.          1.5276328   0.95275249\n",
        "  0.26900745  0.56192513  1.06618347  0.68855031] \n",
        "\n",
        "[ 0.73823483  1.56194341  0.          0.          1.5276328   0.95275249\n",
        "  0.26900745  0.56192513  1.06618347  0.68855031]\n"
       ]
      },
      {
       "metadata": {},
       "output_type": "pyout",
       "prompt_number": 66,
       "text": [
        "True"
       ]
      }
     ],
     "prompt_number": 66
    },
    {
     "cell_type": "code",
     "collapsed": false,
     "input": [
      "%matplotlib inline\n",
      "import matplotlib.pyplot as plt\n",
      "import numpy as np"
     ],
     "language": "python",
     "metadata": {},
     "outputs": [],
     "prompt_number": 69
    },
    {
     "cell_type": "code",
     "collapsed": false,
     "input": [
      "x = np.linspace(0,10,100)\n",
      "#print x\n",
      "plt.plot(x, np.sin(x));"
     ],
     "language": "python",
     "metadata": {},
     "outputs": [
      {
       "metadata": {},
       "output_type": "display_data",
       "png": "[encoded data removed]",
       "text": [
        "<matplotlib.figure.Figure at 0x6a5cb10>"
       ]
      }
     ],
     "prompt_number": 76
    },
    {
     "cell_type": "code",
     "collapsed": false,
     "input": [
      "x = np.random.normal(size = 500)\n",
      "y = np.random.normal(size=500)\n",
      "plt.scatter(x, y);"
     ],
     "language": "python",
     "metadata": {},
     "outputs": [
      {
       "metadata": {},
       "output_type": "display_data",
       "png": "[encoded data removed]",
       "text": [
        "<matplotlib.figure.Figure at 0x70db770>"
       ]
      }
     ],
     "prompt_number": 83
    },
    {
     "cell_type": "code",
     "collapsed": false,
     "input": [
      "im = x * y\n",
      "plt.imshow()"
     ],
     "language": "python",
     "metadata": {},
     "outputs": [],
     "prompt_number": 81
    }
   ],
   "metadata": {}
  }
 ]
}